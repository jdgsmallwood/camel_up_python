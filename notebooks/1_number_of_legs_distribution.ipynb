{
 "cells": [
  {
   "cell_type": "code",
   "execution_count": null,
   "id": "0",
   "metadata": {},
   "outputs": [],
   "source": [
    "from collections import defaultdict\n",
    "import random\n",
    "\n",
    "from loguru import logger\n",
    "\n",
    "from camel_up.game import Camel, CamelUpGame, Player\n",
    "from camel_up.strategies import AlwaysRollStrategy, TakeLeaderBetSlipStrategy"
   ]
  },
  {
   "cell_type": "code",
   "execution_count": null,
   "id": "1",
   "metadata": {},
   "outputs": [],
   "source": [
    "NUMBER_OF_GAMES = 100_000"
   ]
  },
  {
   "cell_type": "code",
   "execution_count": null,
   "id": "2",
   "metadata": {},
   "outputs": [],
   "source": [
    "%%capture\n",
    "\n",
    "# Redirects loguru to stderr so that it is captured, otherwise the Jupyter notebooks crashes.\n",
    "import sys\n",
    "logger.remove()\n",
    "logger.add(sys.stderr)\n",
    "\n",
    "seed_value = 42\n",
    "random.seed(seed_value)\n",
    "\n",
    "number_of_legs = defaultdict(list)\n",
    "player_scores = defaultdict(lambda: defaultdict(list))\n",
    "\n",
    "\n",
    "for player_number in range(2,6):\n",
    "    for _ in range(NUMBER_OF_GAMES):\n",
    "    \n",
    "        players: list[Player] = [\n",
    "            Player(AlwaysRollStrategy()) for _ in range(player_number)\n",
    "        ]\n",
    "        camels: list[Camel] = [\n",
    "            Camel(color=color) for color in [\"red\", \"blue\", \"green\", \"purple\", \"yellow\"]\n",
    "        ]\n",
    "        game: CamelUpGame = CamelUpGame(camels, players)\n",
    "        while not game.is_game_finished():\n",
    "            game.run_leg()\n",
    "    \n",
    "        number_of_legs[player_number].append(game.get_leg_number())\n",
    "        \n",
    "        for num, player in enumerate(game.players):\n",
    "            player_scores[player_number][num].append(player.coins)\n",
    "    "
   ]
  },
  {
   "cell_type": "code",
   "execution_count": null,
   "id": "3",
   "metadata": {},
   "outputs": [],
   "source": []
  },
  {
   "cell_type": "code",
   "execution_count": null,
   "id": "4",
   "metadata": {},
   "outputs": [],
   "source": [
    "from plotnine import ggplot, aes, geom_histogram, theme_minimal, labs, geom_bar, ggtitle, ggsave\n",
    "import pandas as pd\n",
    "\n",
    "legs_data = []\n",
    "\n",
    "for player_number, legs_list in number_of_legs.items():\n",
    "    for legs in legs_list:\n",
    "        legs_data.append({'player_number': player_number, 'number_of_legs': legs})\n",
    "df_legs = pd.DataFrame(legs_data)        \n",
    "\n",
    "plot = (\n",
    "    ggplot(df_legs, aes(x='number_of_legs', y='..prop..', fill='factor(player_number)')) \n",
    "    + geom_bar(stat='count', position='dodge',color='black')\n",
    "    + labs(x=\"Number of Legs\", y=\"Proportion\", fill=\"Player Count\")\n",
    "    + ggtitle(\"Distribution of Number of Legs by Player Count\")\n",
    "    + theme_minimal()\n",
    ")\n",
    "ggsave(plot, filename='plots/distribution_of_number_of_legs.png', dpi=300, width=8, height=6, units='in')\n",
    "plot"
   ]
  },
  {
   "cell_type": "code",
   "execution_count": null,
   "id": "5",
   "metadata": {},
   "outputs": [],
   "source": [
    "## Coins data\n",
    "\n",
    "coins_data = []\n",
    "\n",
    "for player_count, coin_dict in player_scores.items():\n",
    "    for player_number, coin_list in coin_dict.items():\n",
    "        for number_of_coins in coin_list:\n",
    "            coins_data.append({'player_count': player_count, 'player_number': player_number, 'coins': number_of_coins})\n",
    "df_coins = pd.DataFrame(coins_data)    \n",
    "\n",
    "df_coins = df_coins.groupby(['player_count', 'player_number']).mean()\n",
    "df_coins = df_coins.reset_index()"
   ]
  },
  {
   "cell_type": "code",
   "execution_count": null,
   "id": "6",
   "metadata": {},
   "outputs": [],
   "source": [
    "plot = (\n",
    "    ggplot(df_coins, aes(x='factor(player_number)', y='coins', fill='factor(player_count)')) \n",
    "    + geom_bar(stat='identity', position='dodge',color='black')\n",
    "    + labs(x=\"Player Number\", y=\"Number of Coins\", fill=\"Player Count\")\n",
    "    + ggtitle(\"Distribution of Number of Coins by Player Number & Count\")\n",
    "    + theme_minimal()\n",
    ")\n",
    "ggsave(plot, filename='plots/distribution_of_number_of_coins.png', dpi=300, width=8, height=6, units='in')\n",
    "plot"
   ]
  },
  {
   "cell_type": "code",
   "execution_count": null,
   "id": "7",
   "metadata": {},
   "outputs": [],
   "source": [
    "%%capture\n",
    "## Now have all players use the TakeLeader bet strategy and check distribution looks the same\n",
    "\n",
    "# Redirects loguru to stderr so that it is captured, otherwise the Jupyter notebooks crashes.\n",
    "import sys\n",
    "logger.remove()\n",
    "logger.add(sys.stderr)\n",
    "\n",
    "seed_value = 42\n",
    "random.seed(seed_value)\n",
    "\n",
    "number_of_legs = defaultdict(list)\n",
    "player_scores = defaultdict(lambda: defaultdict(list))\n",
    "\n",
    "\n",
    "for player_number in range(2,6):\n",
    "    for _ in range(NUMBER_OF_GAMES):\n",
    "    \n",
    "        players: list[Player] = [\n",
    "            Player(TakeLeaderBetSlipStrategy()) for _ in range(player_number)\n",
    "        ]\n",
    "        camels: list[Camel] = [\n",
    "            Camel(color=color) for color in [\"red\", \"blue\", \"green\", \"purple\", \"yellow\"]\n",
    "        ]\n",
    "        game: CamelUpGame = CamelUpGame(camels, players)\n",
    "        while not game.is_game_finished():\n",
    "            game.run_leg()\n",
    "    \n",
    "        number_of_legs[player_number].append(game.get_leg_number())\n",
    "        \n",
    "        for num, player in enumerate(game.players):\n",
    "            player_scores[player_number][num].append(player.coins)\n",
    "    "
   ]
  },
  {
   "cell_type": "code",
   "execution_count": null,
   "id": "8",
   "metadata": {},
   "outputs": [],
   "source": [
    "from plotnine import ggplot, aes, geom_histogram, theme_minimal, labs, geom_bar, ggtitle, ggsave\n",
    "import pandas as pd\n",
    "\n",
    "legs_data = []\n",
    "\n",
    "for player_number, legs_list in number_of_legs.items():\n",
    "    for legs in legs_list:\n",
    "        legs_data.append({'player_number': player_number, 'number_of_legs': legs})\n",
    "df_legs = pd.DataFrame(legs_data)        \n",
    "\n",
    "plot = (\n",
    "    ggplot(df_legs, aes(x='number_of_legs', y='..prop..', fill='factor(player_number)')) \n",
    "    + geom_bar(stat='count', position='dodge',color='black')\n",
    "    + labs(x=\"Number of Legs\", y=\"Proportion\", fill=\"Player Count\")\n",
    "    + ggtitle(\"Distribution of Number of Legs by Player Count (TakeLeader strategies)\")\n",
    "    + theme_minimal()\n",
    ")\n",
    "ggsave(plot, filename='plots/distribution_of_number_of_legs_diff_strat.png', dpi=300, width=8, height=6, units='in')\n",
    "plot"
   ]
  },
  {
   "cell_type": "code",
   "execution_count": null,
   "id": "9",
   "metadata": {},
   "outputs": [],
   "source": []
  }
 ],
 "metadata": {
  "kernelspec": {
   "display_name": "Python 3 (ipykernel)",
   "language": "python",
   "name": "python3"
  },
  "language_info": {
   "codemirror_mode": {
    "name": "ipython",
    "version": 3
   },
   "file_extension": ".py",
   "mimetype": "text/x-python",
   "name": "python",
   "nbconvert_exporter": "python",
   "pygments_lexer": "ipython3",
   "version": "3.10.12"
  }
 },
 "nbformat": 4,
 "nbformat_minor": 5
}
