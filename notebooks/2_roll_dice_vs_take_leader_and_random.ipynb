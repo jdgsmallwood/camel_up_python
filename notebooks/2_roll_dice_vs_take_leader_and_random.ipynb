{
 "cells": [
  {
   "cell_type": "code",
   "execution_count": null,
   "id": "0",
   "metadata": {},
   "outputs": [],
   "source": [
    "from collections import defaultdict, Counter\n",
    "import random\n",
    "\n",
    "from loguru import logger\n",
    "\n",
    "from camel_up.game import Camel, CamelUpGame, Player\n",
    "from camel_up.strategies import AlwaysRollStrategy, TakeLeaderBetSlipStrategy, RandomActionStrategy"
   ]
  },
  {
   "cell_type": "code",
   "execution_count": null,
   "id": "1",
   "metadata": {},
   "outputs": [],
   "source": [
    "NUMBER_OF_GAMES = 100_000"
   ]
  },
  {
   "cell_type": "code",
   "execution_count": null,
   "id": "2",
   "metadata": {},
   "outputs": [],
   "source": [
    "%%capture\n",
    "\n",
    "# Redirects loguru to stderr so that it is captured, otherwise the Jupyter notebooks crashes.\n",
    "import sys\n",
    "logger.remove()\n",
    "logger.add(sys.stderr)\n",
    "\n",
    "seed_value = 42\n",
    "random.seed(seed_value)\n",
    "\n",
    "player_scores = defaultdict(list)\n",
    "winners = []\n",
    "\n",
    "\n",
    "for _ in range(NUMBER_OF_GAMES):\n",
    "\n",
    "    players: list[Player] = [\n",
    "        Player(AlwaysRollStrategy(), player_number=0), Player(AlwaysRollStrategy(), player_number=1), Player(AlwaysRollStrategy(), player_number=2), Player(TakeLeaderBetSlipStrategy(), player_number=3)\n",
    "    ]\n",
    "    camels: list[Camel] = [\n",
    "        Camel(color=color) for color in [\"red\", \"blue\", \"green\", \"purple\", \"yellow\"]\n",
    "    ]\n",
    "    game: CamelUpGame = CamelUpGame(camels, players)\n",
    "    while not game.is_game_finished():\n",
    "        game.run_leg()\n",
    "\n",
    "    winner = None\n",
    "    winner_score = 0\n",
    "    for player in game.players:\n",
    "        player_scores[player.player_number].append(player.coins)\n",
    "        if player.coins > winner_score:\n",
    "            winner = player.player_number\n",
    "            winner_score = player.coins\n",
    "\n",
    "    winners.append(winner)\n",
    "\n",
    "winners_count = Counter(winners)\n",
    "winners\n",
    "    "
   ]
  },
  {
   "cell_type": "code",
   "execution_count": null,
   "id": "3",
   "metadata": {},
   "outputs": [],
   "source": [
    "# Player 0\n",
    "winners_count[0]/400_000"
   ]
  },
  {
   "cell_type": "code",
   "execution_count": null,
   "id": "4",
   "metadata": {},
   "outputs": [],
   "source": [
    "# Player 3\n",
    "winners_count[3] / 400_000"
   ]
  },
  {
   "cell_type": "code",
   "execution_count": null,
   "id": "5",
   "metadata": {},
   "outputs": [],
   "source": [
    "from plotnine import ggplot, aes, geom_histogram, theme_minimal, labs, geom_bar, ggtitle, ggsave, scale_y_continuous\n",
    "import pandas as pd\n",
    "from mizani.formatters import percent_format\n",
    "\n",
    "strats = {**{i: \"AlwaysRollDice\" for i in range(2)}, **{3:\"TakeLeaderBetSlip\"}}\n",
    "strat_data = []\n",
    "\n",
    "for winner in winners:\n",
    "    strat_data.append({'player_number': winner, 'player_strategy': strats[winner]})\n",
    "df_legs = pd.DataFrame(strat_data)        \n",
    "\n",
    "plot = (\n",
    "    ggplot(df_legs, aes(x='player_strategy' )) \n",
    "    + geom_bar(stat='count',position='dodge',color='black', fill='blue')\n",
    "    + labs(x=\"Player Strategy\", y=\"Proportion\")\n",
    "    + ggtitle(\"Win Rate (3 RollDice, 1 TakeLeader)\")\n",
    "    + scale_y_continuous(labels=lambda l: [\"%d%%\" % (v * 100 / 100_000) for v in l])\n",
    "    + theme_minimal()\n",
    ")\n",
    "ggsave(plot, filename='plots/2_3rolldice_1takeleader.png', dpi=300, width=8, height=6, units='in')\n",
    "plot"
   ]
  },
  {
   "cell_type": "code",
   "execution_count": null,
   "id": "6",
   "metadata": {},
   "outputs": [],
   "source": [
    "%%capture\n",
    "\n",
    "# Redirects loguru to stderr so that it is captured, otherwise the Jupyter notebooks crashes.\n",
    "import sys\n",
    "logger.remove()\n",
    "logger.add(sys.stderr)\n",
    "\n",
    "seed_value = 42\n",
    "random.seed(seed_value)\n",
    "\n",
    "player_scores = defaultdict(list)\n",
    "winners_3tl_1roll = []\n",
    "\n",
    "\n",
    "for _ in range(NUMBER_OF_GAMES):\n",
    "\n",
    "    players: list[Player] = [\n",
    "        Player(TakeLeaderBetSlipStrategy(), player_number=0), Player(TakeLeaderBetSlipStrategy(), player_number=1), Player(AlwaysRollStrategy(), player_number=2), Player(TakeLeaderBetSlipStrategy(), player_number=3)\n",
    "    ]\n",
    "    camels: list[Camel] = [\n",
    "        Camel(color=color) for color in [\"red\", \"blue\", \"green\", \"purple\", \"yellow\"]\n",
    "    ]\n",
    "    game: CamelUpGame = CamelUpGame(camels, players)\n",
    "    while not game.is_game_finished():\n",
    "        game.run_leg()\n",
    "\n",
    "    winner = None\n",
    "    winner_score = 0\n",
    "    for player in game.players:\n",
    "        player_scores[player.player_number].append(player.coins)\n",
    "        if player.coins > winner_score:\n",
    "            winner = player.player_number\n",
    "            winner_score = player.coins\n",
    "\n",
    "    winners_3tl_1roll.append(winner)\n",
    "\n",
    "winners_3tl_1roll_count = Counter(winners)\n",
    "winners_3tl_1roll\n",
    "    "
   ]
  },
  {
   "cell_type": "code",
   "execution_count": null,
   "id": "7",
   "metadata": {},
   "outputs": [],
   "source": [
    "from plotnine import ggplot, aes, geom_histogram, theme_minimal, labs, geom_bar, ggtitle, ggsave\n",
    "import pandas as pd\n",
    "\n",
    "strats = {**{i: \"TakeLeaderBetSlip\" for i in [0,1,3]}, **{2:\"TakeLeaderBetSlip\"}}\n",
    "strat_data = []\n",
    "\n",
    "for winner in winners_3tl_1roll:\n",
    "    strat_data.append({'player_number': winner, 'player_strategy': strats[winner]})\n",
    "df_legs = pd.DataFrame(strat_data)        \n",
    "\n",
    "plot = (\n",
    "    ggplot(df_legs, aes(x='player_strategy' )) \n",
    "    + geom_bar(stat='count',position='dodge',color='black', fill='blue')\n",
    "    + labs(x=\"Player Strategy\", y=\"Proportion\")\n",
    "    + ggtitle(\"Win Rate (1 RollDice, 3 TakeLeader)\")\n",
    "    + scale_y_continuous(labels=lambda l: [\"%d%%\" % (v * 100 / 100_000) for v in l])\n",
    "    + theme_minimal()\n",
    ")\n",
    "ggsave(plot, filename='plots/2_1rolldice_3takeleader.png', dpi=300, width=8, height=6, units='in')\n",
    "plot"
   ]
  },
  {
   "cell_type": "code",
   "execution_count": null,
   "id": "8",
   "metadata": {},
   "outputs": [],
   "source": [
    "plot = (\n",
    "    ggplot(df_legs, aes(x='factor(player_number)' )) \n",
    "    + geom_bar(stat='count',position='dodge',color='black', fill='blue')\n",
    "    + labs(x=\"Player Strategy\", y=\"Proportion\")\n",
    "    + ggtitle(\"Win Rate (1 RollDice, 3 TakeLeader, Player 2 = RollDice)\")\n",
    "    + scale_y_continuous(labels=lambda l: [\"%d%%\" % (v * 100 / 100_000) for v in l])\n",
    "    + theme_minimal()\n",
    ")\n",
    "ggsave(plot, filename='plots/2_1rolldice_3takeleader_by_player.png', dpi=300, width=8, height=6, units='in')\n",
    "plot"
   ]
  },
  {
   "cell_type": "code",
   "execution_count": null,
   "id": "9",
   "metadata": {},
   "outputs": [],
   "source": []
  }
 ],
 "metadata": {
  "kernelspec": {
   "display_name": "Python 3 (ipykernel)",
   "language": "python",
   "name": "python3"
  },
  "language_info": {
   "codemirror_mode": {
    "name": "ipython",
    "version": 3
   },
   "file_extension": ".py",
   "mimetype": "text/x-python",
   "name": "python",
   "nbconvert_exporter": "python",
   "pygments_lexer": "ipython3",
   "version": "3.10.12"
  }
 },
 "nbformat": 4,
 "nbformat_minor": 5
}
